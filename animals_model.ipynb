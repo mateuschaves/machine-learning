{
  "nbformat": 4,
  "nbformat_minor": 0,
  "metadata": {
    "colab": {
      "name": "Introdução a Data Science",
      "provenance": []
    },
    "kernelspec": {
      "name": "python3",
      "display_name": "Python 3"
    }
  },
  "cells": [
    {
      "cell_type": "code",
      "metadata": {
        "id": "4G04QS61wDiK"
      },
      "source": [
        "# features (1 sim, 0 não)\r\n",
        "# longo ?\r\n",
        "# perna curta ?\r\n",
        "# faz auau ?\r\n",
        "\r\n",
        "porco1 = [0, 1, 0]\r\n",
        "porco2 = [0, 1, 1]\r\n",
        "porco3 = [1, 1, 0]\r\n",
        "\r\n",
        "cachorro1 = [0, 1, 1]\r\n",
        "cachorro2 = [1, 0, 1]\r\n",
        "cachorro3 = [1, 1, 1]\r\n",
        "\r\n",
        "# 1 => porco, 0 => cachorro\r\n",
        "dados = [porco1, porco2, porco3, cachorro1, cachorro2, cachorro3]\r\n",
        "classes = [1, 1, 1, 0, 0, 0]"
      ],
      "execution_count": 5,
      "outputs": []
    },
    {
      "cell_type": "code",
      "metadata": {
        "colab": {
          "base_uri": "https://localhost:8080/"
        },
        "id": "GzTw-reaLQW6",
        "outputId": "21db66a1-ebd0-4d43-975a-71b05c96d493"
      },
      "source": [
        "from sklearn.svm import LinearSVC\r\n",
        "\r\n",
        "model = LinearSVC()\r\n",
        "model.fit(dados, classes)"
      ],
      "execution_count": 6,
      "outputs": [
        {
          "output_type": "execute_result",
          "data": {
            "text/plain": [
              "LinearSVC(C=1.0, class_weight=None, dual=True, fit_intercept=True,\n",
              "          intercept_scaling=1, loss='squared_hinge', max_iter=1000,\n",
              "          multi_class='ovr', penalty='l2', random_state=None, tol=0.0001,\n",
              "          verbose=0)"
            ]
          },
          "metadata": {
            "tags": []
          },
          "execution_count": 6
        }
      ]
    },
    {
      "cell_type": "code",
      "metadata": {
        "colab": {
          "base_uri": "https://localhost:8080/"
        },
        "id": "zMzD8rtJL4xj",
        "outputId": "fca30218-b41b-4507-b83b-6928d53e1612"
      },
      "source": [
        "animal_misterioso = [1, 1, 1]\r\n",
        "model.predict([animal_misterioso])\r\n",
        "\r\n",
        "misterio1 = [1, 1, 1]\r\n",
        "misterio2 = [1, 1, 0]\r\n",
        "misterio3 = [0, 1, 1]\r\n",
        "\r\n",
        "teste = [misterio1, misterio2, misterio3]\r\n",
        "testes_classes = [0, 1, 1]\r\n",
        "previsoes = model.predict(teste)\r\n",
        "\r\n",
        "corretos = (previsoes == testes_classes).sum()\r\n",
        "total = len(teste)\r\n",
        "taxa_de_acerto = corretos/total\r\n"
      ],
      "execution_count": 17,
      "outputs": [
        {
          "output_type": "stream",
          "text": [
            "Taxa de acerto:  66.66666666666666\n"
          ],
          "name": "stdout"
        }
      ]
    },
    {
      "cell_type": "code",
      "metadata": {
        "colab": {
          "base_uri": "https://localhost:8080/"
        },
        "id": "_EXXhrWPNVCM",
        "outputId": "4fc24862-c630-46f6-a42d-77b4bf0406f4"
      },
      "source": [
        "from sklearn.metrics import accuracy_score\r\n",
        "\r\n",
        "taxa_de_acerto = accuracy_score(testes_classes, previsoes)\r\n",
        "print(\"Taxa de acerto: \", taxa_de_acerto * 100)"
      ],
      "execution_count": 20,
      "outputs": [
        {
          "output_type": "stream",
          "text": [
            "Taxa de acerto:  66.66666666666666\n"
          ],
          "name": "stdout"
        }
      ]
    }
  ]
}